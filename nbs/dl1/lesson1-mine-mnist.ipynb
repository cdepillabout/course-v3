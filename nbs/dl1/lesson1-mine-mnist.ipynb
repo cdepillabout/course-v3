{
 "cells": [
  {
   "cell_type": "code",
   "execution_count": 1,
   "metadata": {},
   "outputs": [],
   "source": [
    "%reload_ext autoreload\n",
    "%autoreload 2\n",
    "%matplotlib inline"
   ]
  },
  {
   "cell_type": "code",
   "execution_count": 19,
   "metadata": {},
   "outputs": [],
   "source": [
    "from fastai.vision import *\n",
    "from fastai.metrics import error_rate\n",
    "import numpy as np"
   ]
  },
  {
   "cell_type": "code",
   "execution_count": 3,
   "metadata": {},
   "outputs": [],
   "source": [
    "bs = 16"
   ]
  },
  {
   "cell_type": "code",
   "execution_count": 4,
   "metadata": {},
   "outputs": [
    {
     "data": {
      "text/plain": [
       "PosixPath('/home/dennis/.fastai/data/mnist_png')"
      ]
     },
     "execution_count": 4,
     "metadata": {},
     "output_type": "execute_result"
    }
   ],
   "source": [
    "path = untar_data(URLs.MNIST); path"
   ]
  },
  {
   "cell_type": "code",
   "execution_count": 5,
   "metadata": {},
   "outputs": [
    {
     "data": {
      "text/plain": [
       "<bound method <lambda> of PosixPath('/home/dennis/.fastai/data/mnist_png')>"
      ]
     },
     "execution_count": 5,
     "metadata": {},
     "output_type": "execute_result"
    }
   ],
   "source": [
    "path.ls"
   ]
  },
  {
   "cell_type": "code",
   "execution_count": 24,
   "metadata": {},
   "outputs": [],
   "source": [
    "path.ls()\n",
    "path_training = path / 'training'"
   ]
  },
  {
   "cell_type": "code",
   "execution_count": 8,
   "metadata": {},
   "outputs": [
    {
     "data": {
      "text/plain": [
       "[PosixPath('/home/dennis/.fastai/data/mnist_png/training/4'),\n",
       " PosixPath('/home/dennis/.fastai/data/mnist_png/training/3'),\n",
       " PosixPath('/home/dennis/.fastai/data/mnist_png/training/1'),\n",
       " PosixPath('/home/dennis/.fastai/data/mnist_png/training/9'),\n",
       " PosixPath('/home/dennis/.fastai/data/mnist_png/training/2'),\n",
       " PosixPath('/home/dennis/.fastai/data/mnist_png/training/7'),\n",
       " PosixPath('/home/dennis/.fastai/data/mnist_png/training/5'),\n",
       " PosixPath('/home/dennis/.fastai/data/mnist_png/training/8'),\n",
       " PosixPath('/home/dennis/.fastai/data/mnist_png/training/0'),\n",
       " PosixPath('/home/dennis/.fastai/data/mnist_png/training/6')]"
      ]
     },
     "execution_count": 8,
     "metadata": {},
     "output_type": "execute_result"
    }
   ],
   "source": [
    "path_training.ls()"
   ]
  },
  {
   "cell_type": "code",
   "execution_count": 25,
   "metadata": {},
   "outputs": [
    {
     "data": {
      "text/plain": [
       "[PosixPath('/home/dennis/.fastai/data/mnist_png/training/1/553.png'),\n",
       " PosixPath('/home/dennis/.fastai/data/mnist_png/training/1/22303.png'),\n",
       " PosixPath('/home/dennis/.fastai/data/mnist_png/training/1/36625.png'),\n",
       " PosixPath('/home/dennis/.fastai/data/mnist_png/training/1/18072.png')]"
      ]
     },
     "execution_count": 25,
     "metadata": {},
     "output_type": "execute_result"
    }
   ],
   "source": [
    "(path_training / '1').ls()[1:5]"
   ]
  },
  {
   "cell_type": "code",
   "execution_count": 12,
   "metadata": {},
   "outputs": [],
   "source": [
    "np.random.seed(2)"
   ]
  },
  {
   "cell_type": "code",
   "execution_count": 20,
   "metadata": {
    "scrolled": true
   },
   "outputs": [],
   "source": [
    "tfms = get_transforms(do_flip=False)\n",
    "#data = ImageDataBunch.from_folder(path / 'training', ds_tfms=tfms, size=26)"
   ]
  },
  {
   "cell_type": "code",
   "execution_count": 35,
   "metadata": {
    "scrolled": true
   },
   "outputs": [
    {
     "name": "stdout",
     "output_type": "stream",
     "text": [
      "Help on class ItemBase in module fastai.core:\n",
      "\n",
      "class ItemBase(builtins.object)\n",
      " |  ItemBase(data: Any)\n",
      " |  \n",
      " |  Base item type in the fastai library.\n",
      " |  \n",
      " |  Methods defined here:\n",
      " |  \n",
      " |  __init__(self, data: Any)\n",
      " |      Initialize self.  See help(type(self)) for accurate signature.\n",
      " |  \n",
      " |  apply_tfms(self, tfms: Collection, **kwargs)\n",
      " |      Subclass this method if you want to apply data augmentation with `tfms` to this `ItemBase`.\n",
      " |  \n",
      " |  show(self, ax: matplotlib.axes._axes.Axes, **kwargs)\n",
      " |      Subclass this method if you want to customize the way this `ItemBase` is shown on `ax`.\n",
      " |  \n",
      " |  ----------------------------------------------------------------------\n",
      " |  Data descriptors defined here:\n",
      " |  \n",
      " |  __dict__\n",
      " |      dictionary for instance variables (if defined)\n",
      " |  \n",
      " |  __weakref__\n",
      " |      list of weak references to the object (if defined)\n",
      "\n"
     ]
    }
   ],
   "source": [
    "fnames = ImageList.from_folder(path_training, recurse=True)\n",
    "fnames[:5]\n",
    "import fastai.core\n",
    "help(fastai.core.ItemBase)"
   ]
  },
  {
   "cell_type": "code",
   "execution_count": 53,
   "metadata": {
    "scrolled": true
   },
   "outputs": [
    {
     "name": "stdout",
     "output_type": "stream",
     "text": [
      "/home/dennis/.fastai/data/mnist_png/training/0/26210.png\n"
     ]
    },
    {
     "data": {
      "text/plain": [
       "60000"
      ]
     },
     "execution_count": 53,
     "metadata": {},
     "output_type": "execute_result"
    }
   ],
   "source": [
    "nested_paths = [(path_training / str(num)).ls() for num in range(0, 10)];\n",
    "import itertools\n",
    "fnames = list(itertools.chain.from_iterable(nested_paths)) \n",
    "print(fnames[0])\n",
    "len(fnames)"
   ]
  },
  {
   "cell_type": "code",
   "execution_count": 54,
   "metadata": {},
   "outputs": [
    {
     "data": {
      "text/plain": [
       "['0', '1', '2', '3', '4', '5', '6', '7', '8', '9']"
      ]
     },
     "execution_count": 54,
     "metadata": {},
     "output_type": "execute_result"
    }
   ],
   "source": [
    "pat = r\"/(\\d)/\\d+\\.png$\"\n",
    "data = ImageDataBunch.from_name_re(path_training, fnames, pat=pat, ds_tfms=tfms)\n",
    "data.classes"
   ]
  },
  {
   "cell_type": "code",
   "execution_count": null,
   "metadata": {},
   "outputs": [],
   "source": []
  }
 ],
 "metadata": {
  "kernelspec": {
   "display_name": "Python 3",
   "language": "python",
   "name": "python3"
  },
  "language_info": {
   "codemirror_mode": {
    "name": "ipython",
    "version": 3
   },
   "file_extension": ".py",
   "mimetype": "text/x-python",
   "name": "python",
   "nbconvert_exporter": "python",
   "pygments_lexer": "ipython3",
   "version": "3.7.2"
  }
 },
 "nbformat": 4,
 "nbformat_minor": 2
}
